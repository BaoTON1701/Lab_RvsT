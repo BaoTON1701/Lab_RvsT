{
 "cells": [
  {
   "cell_type": "code",
   "execution_count": 64,
   "id": "296e7957-a338-45f1-b2c9-7488ee0cff17",
   "metadata": {},
   "outputs": [],
   "source": [
    "import numpy as np\n",
    "import pandas as pd\n",
    "import matplotlib.pyplot as plt"
   ]
  },
  {
   "cell_type": "code",
   "execution_count": 65,
   "id": "69ba82ba-11b9-4230-ad63-ea6064163ef7",
   "metadata": {},
   "outputs": [],
   "source": [
    "datafiles = [\"warming_samp1_A.txt\",\"warming_sample2_A.txt\",\"warming_samp_B.txt\", \"warming_sample_C.txt\"]\n",
    "dataframes = []\n",
    "# , header = None, names = ['Temps','R','error_Temps','Error_R'], sep = '\\s+'"
   ]
  },
  {
   "cell_type": "raw",
   "id": "11d6e325-f8fc-47cd-92a5-0e714a734ed9",
   "metadata": {},
   "source": [
    "\n"
   ]
  },
  {
   "cell_type": "code",
   "execution_count": 88,
   "id": "0d39e624-285f-45ab-b139-0596eceff613",
   "metadata": {},
   "outputs": [
    {
     "name": "stdout",
     "output_type": "stream",
     "text": [
      "<class 'numpy.ndarray'>\n"
     ]
    }
   ],
   "source": [
    "for file in datafiles:\n",
    "    dat = np.genfromtxt(file)\n",
    "    dataframes.append(dat)\n",
    "\n",
    "print(type(dat))"
   ]
  },
  {
   "cell_type": "code",
   "execution_count": 87,
   "id": "a6b627cf-b238-4181-9371-5658e4078415",
   "metadata": {},
   "outputs": [
    {
     "name": "stdout",
     "output_type": "stream",
     "text": [
      "       9.157\\t-1.336\\t0.500\\t-0.001\n",
      "0      9.317\\t-1.189\\t0.500\\t-0.001\n",
      "1      8.752\\t-0.030\\t0.500\\t-0.000\n",
      "2      8.332\\t-1.517\\t0.500\\t-0.001\n",
      "3      8.783\\t-1.182\\t0.500\\t-0.001\n",
      "4      9.886\\t-1.410\\t0.500\\t-0.001\n",
      "..                              ...\n",
      "439  299.957\\t102.215\\t0.500\\t0.051\n",
      "440  299.946\\t103.410\\t0.500\\t0.052\n",
      "441  299.944\\t101.857\\t0.500\\t0.051\n",
      "442  299.948\\t101.589\\t0.500\\t0.051\n",
      "443  299.961\\t102.379\\t0.500\\t0.051\n",
      "\n",
      "[444 rows x 1 columns]\n"
     ]
    },
    {
     "ename": "InvalidIndexError",
     "evalue": "(slice(None, None, None), 0)",
     "output_type": "error",
     "traceback": [
      "\u001b[0;31m---------------------------------------------------------------------------\u001b[0m",
      "\u001b[0;31mTypeError\u001b[0m                                 Traceback (most recent call last)",
      "File \u001b[0;32m~/miniforge3/lib/python3.10/site-packages/pandas/core/indexes/base.py:3805\u001b[0m, in \u001b[0;36mIndex.get_loc\u001b[0;34m(self, key)\u001b[0m\n\u001b[1;32m   3804\u001b[0m \u001b[38;5;28;01mtry\u001b[39;00m:\n\u001b[0;32m-> 3805\u001b[0m     \u001b[38;5;28;01mreturn\u001b[39;00m \u001b[38;5;28;43mself\u001b[39;49m\u001b[38;5;241;43m.\u001b[39;49m\u001b[43m_engine\u001b[49m\u001b[38;5;241;43m.\u001b[39;49m\u001b[43mget_loc\u001b[49m\u001b[43m(\u001b[49m\u001b[43mcasted_key\u001b[49m\u001b[43m)\u001b[49m\n\u001b[1;32m   3806\u001b[0m \u001b[38;5;28;01mexcept\u001b[39;00m \u001b[38;5;167;01mKeyError\u001b[39;00m \u001b[38;5;28;01mas\u001b[39;00m err:\n",
      "File \u001b[0;32mindex.pyx:167\u001b[0m, in \u001b[0;36mpandas._libs.index.IndexEngine.get_loc\u001b[0;34m()\u001b[0m\n",
      "File \u001b[0;32mindex.pyx:173\u001b[0m, in \u001b[0;36mpandas._libs.index.IndexEngine.get_loc\u001b[0;34m()\u001b[0m\n",
      "\u001b[0;31mTypeError\u001b[0m: '(slice(None, None, None), 0)' is an invalid key",
      "\nDuring handling of the above exception, another exception occurred:\n",
      "\u001b[0;31mInvalidIndexError\u001b[0m                         Traceback (most recent call last)",
      "Cell \u001b[0;32mIn[87], line 22\u001b[0m\n\u001b[1;32m     18\u001b[0m \u001b[38;5;28;01mfor\u001b[39;00m i \u001b[38;5;129;01min\u001b[39;00m \u001b[38;5;28mrange\u001b[39m(\u001b[38;5;28mlen\u001b[39m(datafiles)):\n\u001b[1;32m     19\u001b[0m     \u001b[38;5;66;03m# rank_indices = np.argsort(combined_metric)\u001b[39;00m\n\u001b[1;32m     20\u001b[0m     \u001b[38;5;66;03m#dataframes[i] = dataframes[i].sort_values(by = 'Temps')\u001b[39;00m\n\u001b[1;32m     21\u001b[0m     \u001b[38;5;28mprint\u001b[39m(dataframes[i])\n\u001b[0;32m---> 22\u001b[0m     r1 \u001b[38;5;241m=\u001b[39m  np\u001b[38;5;241m.\u001b[39margsort(\u001b[43mdataframes\u001b[49m\u001b[43m[\u001b[49m\u001b[43mi\u001b[49m\u001b[43m]\u001b[49m\u001b[43m[\u001b[49m\u001b[43m:\u001b[49m\u001b[43m,\u001b[49m\u001b[38;5;241;43m0\u001b[39;49m\u001b[43m]\u001b[49m)\n\u001b[1;32m     23\u001b[0m     \u001b[38;5;66;03m#rank.append( r1)\u001b[39;00m\n\u001b[1;32m     24\u001b[0m     \u001b[38;5;66;03m#print(len(r1))\u001b[39;00m\n\u001b[1;32m     25\u001b[0m     \u001b[38;5;66;03m#print(dataframes[i][rank[i]])\u001b[39;00m\n\u001b[0;32m   (...)\u001b[0m\n\u001b[1;32m     33\u001b[0m     \u001b[38;5;66;03m#resistivity.append(rety_sorted)\u001b[39;00m\n\u001b[1;32m     34\u001b[0m     \u001b[38;5;66;03m#print(len(rety_sorted))\u001b[39;00m\n\u001b[1;32m     35\u001b[0m     \u001b[38;5;28mprint\u001b[39m(\u001b[38;5;124m'\u001b[39m\u001b[38;5;124m------\u001b[39m\u001b[38;5;124m'\u001b[39m)\n",
      "File \u001b[0;32m~/miniforge3/lib/python3.10/site-packages/pandas/core/frame.py:4102\u001b[0m, in \u001b[0;36mDataFrame.__getitem__\u001b[0;34m(self, key)\u001b[0m\n\u001b[1;32m   4100\u001b[0m \u001b[38;5;28;01mif\u001b[39;00m \u001b[38;5;28mself\u001b[39m\u001b[38;5;241m.\u001b[39mcolumns\u001b[38;5;241m.\u001b[39mnlevels \u001b[38;5;241m>\u001b[39m \u001b[38;5;241m1\u001b[39m:\n\u001b[1;32m   4101\u001b[0m     \u001b[38;5;28;01mreturn\u001b[39;00m \u001b[38;5;28mself\u001b[39m\u001b[38;5;241m.\u001b[39m_getitem_multilevel(key)\n\u001b[0;32m-> 4102\u001b[0m indexer \u001b[38;5;241m=\u001b[39m \u001b[38;5;28;43mself\u001b[39;49m\u001b[38;5;241;43m.\u001b[39;49m\u001b[43mcolumns\u001b[49m\u001b[38;5;241;43m.\u001b[39;49m\u001b[43mget_loc\u001b[49m\u001b[43m(\u001b[49m\u001b[43mkey\u001b[49m\u001b[43m)\u001b[49m\n\u001b[1;32m   4103\u001b[0m \u001b[38;5;28;01mif\u001b[39;00m is_integer(indexer):\n\u001b[1;32m   4104\u001b[0m     indexer \u001b[38;5;241m=\u001b[39m [indexer]\n",
      "File \u001b[0;32m~/miniforge3/lib/python3.10/site-packages/pandas/core/indexes/base.py:3817\u001b[0m, in \u001b[0;36mIndex.get_loc\u001b[0;34m(self, key)\u001b[0m\n\u001b[1;32m   3812\u001b[0m     \u001b[38;5;28;01mraise\u001b[39;00m \u001b[38;5;167;01mKeyError\u001b[39;00m(key) \u001b[38;5;28;01mfrom\u001b[39;00m \u001b[38;5;21;01merr\u001b[39;00m\n\u001b[1;32m   3813\u001b[0m \u001b[38;5;28;01mexcept\u001b[39;00m \u001b[38;5;167;01mTypeError\u001b[39;00m:\n\u001b[1;32m   3814\u001b[0m     \u001b[38;5;66;03m# If we have a listlike key, _check_indexing_error will raise\u001b[39;00m\n\u001b[1;32m   3815\u001b[0m     \u001b[38;5;66;03m#  InvalidIndexError. Otherwise we fall through and re-raise\u001b[39;00m\n\u001b[1;32m   3816\u001b[0m     \u001b[38;5;66;03m#  the TypeError.\u001b[39;00m\n\u001b[0;32m-> 3817\u001b[0m     \u001b[38;5;28;43mself\u001b[39;49m\u001b[38;5;241;43m.\u001b[39;49m\u001b[43m_check_indexing_error\u001b[49m\u001b[43m(\u001b[49m\u001b[43mkey\u001b[49m\u001b[43m)\u001b[49m\n\u001b[1;32m   3818\u001b[0m     \u001b[38;5;28;01mraise\u001b[39;00m\n",
      "File \u001b[0;32m~/miniforge3/lib/python3.10/site-packages/pandas/core/indexes/base.py:6059\u001b[0m, in \u001b[0;36mIndex._check_indexing_error\u001b[0;34m(self, key)\u001b[0m\n\u001b[1;32m   6055\u001b[0m \u001b[38;5;28;01mdef\u001b[39;00m \u001b[38;5;21m_check_indexing_error\u001b[39m(\u001b[38;5;28mself\u001b[39m, key):\n\u001b[1;32m   6056\u001b[0m     \u001b[38;5;28;01mif\u001b[39;00m \u001b[38;5;129;01mnot\u001b[39;00m is_scalar(key):\n\u001b[1;32m   6057\u001b[0m         \u001b[38;5;66;03m# if key is not a scalar, directly raise an error (the code below\u001b[39;00m\n\u001b[1;32m   6058\u001b[0m         \u001b[38;5;66;03m# would convert to numpy arrays and raise later any way) - GH29926\u001b[39;00m\n\u001b[0;32m-> 6059\u001b[0m         \u001b[38;5;28;01mraise\u001b[39;00m InvalidIndexError(key)\n",
      "\u001b[0;31mInvalidIndexError\u001b[0m: (slice(None, None, None), 0)"
     ]
    }
   ],
   "source": [
    "L1 =1.1e-3 #m\n",
    "L2 =1.3e-3 #m\n",
    "L = L1\n",
    "\n",
    "#Cross section\n",
    "S = L1*L2\n",
    "\n",
    "#def resistivity(R,S,L):\n",
    "#    R = np.array(R)\n",
    "#    return R*S/L\n",
    "    \n",
    "resististance = []\n",
    "rank = []\n",
    "Temperature = []\n",
    "resistivity = []\n",
    "\n",
    "# print(dataframes[0][:,1])\n",
    "for i in range(len(datafiles)):\n",
    "    # rank_indices = np.argsort(combined_metric)\n",
    "    #dataframes[i] = dataframes[i].sort_values(by = 'Temps')\n",
    "    print(dataframes[i])\n",
    "    r1 =  np.argsort(dataframes[i][:,0])\n",
    "    #rank.append( r1)\n",
    "    #print(len(r1))\n",
    "    #print(dataframes[i][rank[i]])\n",
    "    #Temperature.append(dataframes[i][:,0][r1])\n",
    "    #resistance.append(dataframes[i][:,1][r1])\n",
    "    #resistivity.append(resistance*S / L)\n",
    "    #print(len(Temperature[i]))\n",
    "    #print(rank)\n",
    "    \n",
    "    \n",
    "    #resistivity.append(rety_sorted)\n",
    "    #print(len(rety_sorted))\n",
    "    print('------')\n",
    "# print(resistivity1[0])\n",
    "\n",
    "print(type(resistivity))\n"
   ]
  },
  {
   "cell_type": "code",
   "execution_count": null,
   "id": "65c19a5b-67b3-47e7-834c-03da026c2433",
   "metadata": {},
   "outputs": [],
   "source": []
  },
  {
   "cell_type": "code",
   "execution_count": null,
   "id": "19150926-f1af-4552-acd4-c88a3c39b375",
   "metadata": {},
   "outputs": [],
   "source": []
  }
 ],
 "metadata": {
  "kernelspec": {
   "display_name": "Python 3 (ipykernel)",
   "language": "python",
   "name": "python3"
  },
  "language_info": {
   "codemirror_mode": {
    "name": "ipython",
    "version": 3
   },
   "file_extension": ".py",
   "mimetype": "text/x-python",
   "name": "python",
   "nbconvert_exporter": "python",
   "pygments_lexer": "ipython3",
   "version": "3.10.14"
  }
 },
 "nbformat": 4,
 "nbformat_minor": 5
}
